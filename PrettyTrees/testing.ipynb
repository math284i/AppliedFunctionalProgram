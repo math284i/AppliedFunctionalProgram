{
 "cells": [
  {
   "cell_type": "code",
   "execution_count": 4,
   "metadata": {
    "dotnet_interactive": {
     "language": "fsharp"
    },
    "polyglot_notebook": {
     "kernelName": "fsharp"
    },
    "vscode": {
     "languageId": "polyglot-notebook"
    }
   },
   "outputs": [
    {
     "data": {
      "text/html": [
       "<div><div></div><div></div><div><strong>Installed Packages</strong><ul><li><span>SharpVG, 0.0.19</span></li></ul></div></div>"
      ]
     },
     "metadata": {},
     "output_type": "display_data"
    }
   ],
   "source": [
    "#r \"nuget:SharpVG\"\n",
    "open SharpVG\n",
    "open System"
   ]
  },
  {
   "cell_type": "code",
   "execution_count": 5,
   "metadata": {
    "dotnet_interactive": {
     "language": "fsharp"
    },
    "polyglot_notebook": {
     "kernelName": "fsharp"
    },
    "vscode": {
     "languageId": "polyglot-notebook"
    }
   },
   "outputs": [
    {
     "data": {
      "text/html": [
       "<svg xmlns=\"http://www.w3.org/2000/svg\"><rect stroke=\"blue\" stroke-width=\"3\" fill=\"lightblue\" opacity=\"1\" fill-opacity=\"1\" x=\"10\" y=\"10\" width=\"50\" height=\"50\"/></svg>"
      ]
     },
     "metadata": {},
     "output_type": "display_data"
    }
   ],
   "source": [
    "let position = Point.ofInts (10, 10)\n",
    "let area = Area.ofInts (50, 50)\n",
    "let style = Style.create (Color.ofName Colors.LightBlue) (Color.ofName Colors.Blue) (Length.ofInt 3) 1.0 1.0\n",
    "let showSvg svg = display(HTML(Svg.toString svg))\n",
    "let t = Rect.create position area |> Element.createWithStyle style |> Svg.ofElement\n",
    "showSvg t"
   ]
  },
  {
   "cell_type": "code",
   "execution_count": 125,
   "metadata": {
    "dotnet_interactive": {
     "language": "fsharp"
    },
    "polyglot_notebook": {
     "kernelName": "fsharp"
    },
    "vscode": {
     "languageId": "polyglot-notebook"
    }
   },
   "outputs": [
    {
     "data": {
      "text/html": [
       "<!DOCTYPE html>\n",
       "<html>\n",
       "<head>\n",
       "<title>Tree</title>\n",
       "</head>\n",
       "<body>\n",
       "<svg xmlns=\"http://www.w3.org/2000/svg\" width=\"300\" height=\"300\"><rect fill=\"white\" x=\"0\" y=\"0\" width=\"300\" height=\"300\"/><line stroke=\"black\" x1=\"150\" y1=\"150\" x2=\"250\" y2=\"250\"/><line stroke=\"black\" x1=\"150\" y1=\"150\" x2=\"150\" y2=\"250\"/><line stroke=\"black\" x1=\"150\" y1=\"150\" x2=\"50\" y2=\"250\"/><g id=\"label\"><rect fill=\"black\" x=\"136\" y=\"137\" width=\"29\" height=\"26\" rx=\"5\" ry=\"5\"/><text fill=\"white\" x=\"150\" y=\"157\" font-family=\"monospace\" font-size=\"20\" text-anchor=\"middle\">1</text></g><g id=\"label\"><rect fill=\"black\" x=\"236\" y=\"237\" width=\"29\" height=\"26\" rx=\"5\" ry=\"5\"/><text fill=\"white\" x=\"250\" y=\"257\" font-family=\"monospace\" font-size=\"20\" text-anchor=\"middle\">2</text></g><g id=\"label\"><rect fill=\"black\" x=\"136\" y=\"237\" width=\"29\" height=\"26\" rx=\"5\" ry=\"5\"/><text fill=\"white\" x=\"150\" y=\"257\" font-family=\"monospace\" font-size=\"20\" text-anchor=\"middle\">3</text></g><g id=\"label\"><rect fill=\"black\" x=\"24\" y=\"237\" width=\"53\" height=\"26\" rx=\"5\" ry=\"5\"/><text fill=\"white\" x=\"50\" y=\"257\" font-family=\"monospace\" font-size=\"20\" text-anchor=\"middle\">303</text></g></svg>\n",
       "</body>\n",
       "</html>\n"
      ]
     },
     "metadata": {},
     "output_type": "display_data"
    }
   ],
   "source": [
    "let black, white = Color.ofName Black, Color.ofName White\n",
    "let style = Style.create black white Length.one 1.0 1.0\n",
    "// let textStyle = Style.create white white Length.one 1.0 0.0\n",
    "\n",
    "let labelBackground = Style.createWithFill (Color.ofName Black)\n",
    "\n",
    "let lineStyle = Style.createWithStroke black\n",
    "let textStyle = Style.createWithFill white\n",
    "\n",
    "\n",
    "let makeLabelText (x,y) (text : string) = \n",
    "  Text.create (Point.ofInts (x, y + 7)) text\n",
    "  |> Text.withFontFamily \"monospace\"\n",
    "  |> Text.withFontSize 20\n",
    "  |> Text.withAnchor Middle\n",
    "  |> Element.createWithStyle textStyle\n",
    "\n",
    "let makeLabelBackground (x,y) (text : string) =\n",
    "  let radius = 5\n",
    "  let charWidth = 12\n",
    "  let width = text.Length * charWidth + radius + charWidth\n",
    "  let height = 26\n",
    "  let (x', y') = (x - width/2, y - height/2)\n",
    "\n",
    "  Rect.create (Point.ofFloats (x', y')) (Area.ofFloats (width, height))\n",
    "  |> Rect.withCornerRadius (Point.create (Length.ofFloat radius) (Length.ofFloat radius))\n",
    "  |> Element.createWithStyle labelBackground\n",
    "\n",
    "let makeLabel (x,y) (text : string) =\n",
    "  [\n",
    "    makeLabelBackground (x,y) text\n",
    "    makeLabelText (x,y) text\n",
    "  ]\n",
    "  |> Group.ofList\n",
    "  |> Element.createWithName \"label\"\n",
    "\n",
    "let makePoint (x,y) = \n",
    "  Circle.create (Point.ofInts (x, y)) Length.one\n",
    "  |> Element.createWithStyle style\n",
    "\n",
    "let makeLine (x1,y1) (x2,y2) = \n",
    "  Line.create (Point.ofFloats (x1, y1)) (Point.ofFloats (x2, y2))\n",
    "  |> Element.createWithStyle lineStyle\n",
    "\n",
    "let makeWhiteBackground (width, height) = \n",
    "  Rect.create (Point.ofInts (0,0)) (Area.ofInts (width, height))\n",
    "  |> Element.createWithStyle (Style.createWithFill white)\n",
    "\n",
    "let elements =\n",
    "  [\n",
    "    makeWhiteBackground (300, 300)\n",
    "    makeLine (150, 150) (250, 250)\n",
    "    makeLine (150, 150) (150, 250)\n",
    "    makeLine (150, 150) (050, 250)\n",
    "    makeLabel (150, 150) \"1\"\n",
    "    makeLabel (250, 250) \"2\"\n",
    "    makeLabel (150, 250) \"3\"\n",
    "    makeLabel (050, 250) \"303\"\n",
    "  ]\n",
    "\n",
    "\n",
    "\n",
    "elements\n",
    "|> Svg.ofList\n",
    "|> Svg.withSize (Area.ofInts (300, 300))\n",
    "|> Svg.toHtml \"Tree\"\n",
    "|> HTML\n",
    "|> display\n",
    "\n",
    "\n",
    "\n"
   ]
  }
 ],
 "metadata": {
  "kernelspec": {
   "display_name": ".NET (C#)",
   "language": "C#",
   "name": ".net-csharp"
  },
  "language_info": {
   "name": "python"
  },
  "polyglot_notebook": {
   "kernelInfo": {
    "defaultKernelName": "csharp",
    "items": [
     {
      "aliases": [],
      "name": "csharp"
     }
    ]
   }
  }
 },
 "nbformat": 4,
 "nbformat_minor": 2
}
